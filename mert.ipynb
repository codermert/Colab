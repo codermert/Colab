{
  "nbformat": 4,
  "nbformat_minor": 0,
  "metadata": {
    "colab": {
      "provenance": [],
      "gpuType": "T4",
      "cell_execution_strategy": "setup",
      "private_outputs": true
    },
    "kernelspec": {
      "name": "python3",
      "display_name": "Python 3"
    },
    "language_info": {
      "name": "python"
    },
    "accelerator": "GPU"
  },
  "cells": [
    {
      "cell_type": "markdown",
      "source": [
        "**RealESRGAN-GColab**\n",
        "==\n",
        "**RealESRGAN-GColab** leverages the power of **Nvidia T4 GPU** available in **Google Colab** to **enhance image quality with sharper details and improved clarity automatically**. By utilizing the Nvidia T4 GPU, **Remini-AI** is capable of delivering superior and **faster results** in enhancing image quality within the **Google Colab** environment."
      ],
      "metadata": {
        "id": "TSypYXd5aFyi"
      }
    },
    {
      "cell_type": "code",
      "execution_count": null,
      "metadata": {
        "id": "JQGxYk5hTEkk",
        "cellView": "form"
      },
      "outputs": [],
      "source": [
        "#@title **Install Package**\n",
        "\n",
        "!pip install git+https://github.com/sberbank-ai/Real-ESRGAN.git\n",
        "\n",
        "from IPython.display import clear_output\n",
        "clear_output()\n",
        "print(\"Success To Install package\")"
      ]
    },
    {
      "cell_type": "code",
      "source": [
        "#@title **Create Remini-AI Model With RealESRGAN**\n",
        "from RealESRGAN import RealESRGAN\n",
        "from IPython.display import clear_output\n",
        "import numpy as np\n",
        "import torch\n",
        "\n",
        "device = torch.device('cuda' if torch.cuda.is_available() else 'cpu')\n",
        "print('device:', device)\n",
        "\n",
        "model_scale = \"4\" #@param [\"2\", \"4\", \"8\"] {allow-input: false}\n",
        "\n",
        "try:\n",
        "    model = RealESRGAN(device, scale=int(model_scale))\n",
        "    model.load_weights(f'weights/RealESRGAN_x{model_scale}.pth')\n",
        "    clear_output()\n",
        "    print(f\"Model Scale {model_scale} Has Been Installed!\")\n",
        "except Exception as e:\n",
        "    clear_output()\n",
        "    print('Something Is Wrong..')\n",
        "    print(e)"
      ],
      "metadata": {
        "id": "KD8AtgmoTWHI",
        "cellView": "form"
      },
      "execution_count": null,
      "outputs": []
    },
    {
      "cell_type": "code",
      "source": [
        "#@title **Upload And Get Result**\n",
        "import os\n",
        "import requests\n",
        "from google.colab import files\n",
        "import shutil\n",
        "from io import BytesIO\n",
        "import io\n",
        "import tarfile\n",
        "from PIL import Image\n",
        "from IPython.display import clear_output\n",
        "import numpy as np\n",
        "\n",
        "upload_folder = 'inputs'\n",
        "result_folder = 'results'\n",
        "\n",
        "os.makedirs(upload_folder, exist_ok=True)\n",
        "os.makedirs(result_folder, exist_ok=True)\n",
        "\n",
        "IMAGE_FORMATS = ('.png', '.jpg', '.jpeg', '.tiff', '.bmp', '.gif')\n",
        "\n",
        "def image_to_tar_format(img, image_name):\n",
        "    buff = BytesIO()\n",
        "    if '.png' in image_name.lower():\n",
        "        img = img.convert('RGBA')\n",
        "        img.save(buff, format='PNG')\n",
        "    else:\n",
        "        img.save(buff, format='JPEG')\n",
        "    buff.seek(0)\n",
        "    fp = io.BufferedReader(buff)\n",
        "    img_tar_info = tarfile.TarInfo(name=image_name)\n",
        "    img_tar_info.size = len(buff.getvalue())\n",
        "    return img_tar_info, fp\n",
        "\n",
        "def process_tar(path_to_tar):\n",
        "    processing_tar = tarfile.open(path_to_tar, mode='r')\n",
        "    result_tar_path = os.path.join('results/', os.path.basename(path_to_tar))\n",
        "    save_tar = tarfile.open(result_tar_path, 'w')\n",
        "\n",
        "    for c, member in enumerate(processing_tar):\n",
        "        print(f'{c}, processing {member.name}')\n",
        "\n",
        "        if not member.name.endswith(IMAGE_FORMATS):\n",
        "            continue\n",
        "\n",
        "        try:\n",
        "            img_bytes = BytesIO(processing_tar.extractfile(member.name).read())\n",
        "            img_lr = Image.open(img_bytes, mode='r').convert('RGB')\n",
        "        except Exception as err:\n",
        "            print(f'Unable to open file {member.name}, skipping')\n",
        "            continue\n",
        "\n",
        "        img_sr = model.predict(np.array(img_lr))\n",
        "        # adding to save_tar\n",
        "        img_tar_info, fp = image_to_tar_format(img_sr, member.name)\n",
        "        save_tar.addfile(img_tar_info, fp)\n",
        "\n",
        "    processing_tar.close()\n",
        "    save_tar.close()\n",
        "    print(f'Finished! Archive saved to {result_tar_path}')\n",
        "\n",
        "def process_input(filename):\n",
        "    if tarfile.is_tarfile(filename):\n",
        "        process_tar(filename)\n",
        "    else:\n",
        "        result_image_path = os.path.join('results/', os.path.basename(filename))\n",
        "        image = Image.open(filename).convert('RGB')\n",
        "        sr_image = model.predict(np.array(image))\n",
        "        sr_image.save(result_image_path)\n",
        "        print(f'Finished! Image saved to {result_image_path}')\n",
        "        print('Uploading Photo To filezone.my.id..')\n",
        "\n",
        "        # Upload the processed image to the specified URL\n",
        "        url = 'https://filezone.my.id/upload'\n",
        "        with open(result_image_path, 'rb') as file:\n",
        "            files = {'file': file}\n",
        "            response = requests.post(url, files=files)\n",
        "            response_json = response.json()\n",
        "            if response.status_code == 200:\n",
        "                clear_output()\n",
        "                print('Output Result')\n",
        "                print('')\n",
        "                print('Filename:', response_json['result']['originalname'])\n",
        "                print('File Size:', response_json['result']['filesize'])\n",
        "                print('URL File:', response_json['result']['url_file'])\n",
        "            else:\n",
        "                clear_output()\n",
        "                print('Upload failed. Response:', response.text)\n",
        "\n",
        "        # Remove the original and processed files\n",
        "        os.remove(filename)\n",
        "        os.remove(result_image_path)\n",
        "\n",
        "# Upload files\n",
        "try:\n",
        "    uploaded = files.upload()\n",
        "    for filename in uploaded.keys():\n",
        "        print('Processing:', filename)\n",
        "        process_input(filename)\n",
        "except KeyboardInterrupt:\n",
        "    print('Canceled upload.')\n",
        "\n",
        "# Remove the upload_folder and result_folder directories\n",
        "shutil.rmtree(upload_folder)\n",
        "shutil.rmtree(result_folder)"
      ],
      "metadata": {
        "id": "MaRdIMmuTgzJ",
        "cellView": "form"
      },
      "execution_count": null,
      "outputs": []
    },
    {
      "cell_type": "markdown",
      "source": [
        "**Credits✨**\n",
        "==\n",
        "Script by **RizzyFuzz**\n",
        "\n",
        "Powered By **RealESRGAN**\n",
        "\n",
        "**CaliphDev** (File Uploader API Provider)"
      ],
      "metadata": {
        "id": "lL-_ncvvacLz"
      }
    }
  ]
}
