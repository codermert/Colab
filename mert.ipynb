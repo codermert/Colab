{
    "nbformat": 4,
    "nbformat_minor": 0,
    "metadata": {
        "colab": {
            "provenance": [],
            "gpuType": "T4",
            "cell_execution_strategy": "setup",
            "private_outputs": true
        },
        "kernelspec": {
            "name": "python3",
            "display_name": "Python 3"
        },
        "language_info": {
            "name": "python"
        },
        "accelerator": "GPU"
    },
    "cells": [
        {
            "cell_type": "markdown",
            "source": [
                "<p align='center'><img src='https://i.hizliresim.com/8a6tv6h.gif'></p>\n",
                "\n",
                "**GColab**\n",
                "==\n",
                "**GColab**, Google Colab'da bulunan Nvidia T4 GPU'nun gücünü kullanarak otomatik olarak görüntü kalitesini artırır. Nvidia T4 GPU'sunu kullanarak **Remini-AI**, görüntü kalitesini Google Colab ortamında üstün ve daha hızlı sonuçlar elde etmek üzere geliştirilmiştir."
            ],
            "metadata": {
                "id": "TSypYXd5aFyi"
            }
        },
        {
            "cell_type": "code",
            "execution_count": null,
            "metadata": {
                "id": "JQGxYk5hTEkk",
                "cellView": "form"
            },
            "outputs": [],
            "source": [
                "#@title **Paket Kurulumu**\n",
                "\n",
                "!pip install git+https://github.com/sberbank-ai/Real-ESRGAN.git\n",
                "\n",
                "from IPython.display import clear_output\n",
                "clear_output()\n",
                "print(\"Paket kurulumu başarılı\")"
            ]
        },
        {
            "cell_type": "code",
            "source": [
                "#@title **RealESRGAN İle Remini-AI Modeli Oluşturun**\n",
                "from RealESRGAN import RealESRGAN\n",
                "from IPython.display import clear_output\n",
                "import numpy as np\n",
                "import torch\n",
                "\n",
                "device = torch.device('cuda' if torch.cuda.is_available() else 'cpu')\n",
                "print('device:', device)\n",
                "\n",
                "model_scale = \"4\" #@param [\"2\", \"4\", \"8\"] {allow-input: false}\n",
                "\n",
                "try:\n",
                "    model = RealESRGAN(device, scale=int(model_scale))\n",
                "    model.load_weights(f'weights/RealESRGAN_x{model_scale}.pth')\n",
                "    clear_output()\n",
                "    print(f\"Model Ölçeği {model_scale} Başarıyla Yüklendi!\")\n",
                "except Exception as e:\n",
                "    clear_output()\n",
                "    print('Bir şeyler yanlış gitti..')\n",
                "    print(e)"
            ],
            "metadata": {
                "id": "KD8AtgmoTWHI",
                "cellView": "form"
            },
            "execution_count": null,
            "outputs": []
        },
        {
            "cell_type": "code",
            "source": [
                "#@title **Yükle ve Sonucu Al**\n",
                "import os\n",
                "import requests\n",
                "from google.colab import files\n",
                "import shutil\n",
                "from io import BytesIO\n",
                "import io\n",
                "import tarfile\n",
                "from PIL import Image\n",
                "from IPython.display import clear_output\n",
                "import numpy as np\n",
                "\n",
                "IMAGE_FORMATS = ('.png', '.jpg', '.jpeg', '.tiff', '.bmp', '.gif')\n",
                "\n",
                "def image_to_tar_format(img, image_name):\n",
                "    buff = BytesIO()\n",
                "    if '.png' in image_name.lower():\n",
                "        img = img.convert('RGBA')\n",
                "        img.save(buff, format='PNG')\n",
                "    else:\n",
                "        img.save(buff, format='JPEG')\n",
                "    buff.seek(0)\n",
                "    fp = io.BufferedReader(buff)\n",
                "    img_tar_info = tarfile.TarInfo(name=image_name)\n",
                "    img_tar_info.size = len(buff.getvalue())\n",
                "    return img_tar_info, fp\n",
                "\n",
                "def process_telegraph(img_sr):\n",
                "    # Save the image to a BytesIO buffer\n",
                "    image_buffer = BytesIO()\n",
                "    img_sr.save(image_buffer, format='JPEG')\n",
                "    \n",
                "    # Upload image to telegra.ph\n",
                "    files = {'file': ('image.jpg', image_buffer.getvalue())}\n",
                "    response = requests.post('https://telegra.ph/upload', files=files)\n",
                "    telegraph_url = response.json()[0]['src']\n",
                "    \n",
                "    return telegraph_url\n",
                "\n",
                "def process_input(filename):\n",
                "    # Orijinal dosyayı işle\n",
                "    image = Image.open(filename).convert('RGB')\n",
                "    sr_image = model.predict(np.array(image))\n",
                "    \n",
                "    # Upload processed image to telegra.ph\n",
                "    telegraph_url = process_telegraph(sr_image)\n",
                "    print(f'Tamamlandı! Görüntü, {filename} konumuna kaydedildi')\n",
                "    print(f'Telegraph URL: {telegraph_url}')\n",
                "    \n",
                "    # Orijinal dosyayı sil (istenirse)\n",
                "    # os.remove(filename)\n",
                "\n",
                "# Dosyaları yükle\n",
                "try:\n",
                "    uploaded = files.upload()\n",
                "    for filename in uploaded.keys():\n",
                "        print('İşleniyor:', filename)\n",
                "        process_input(filename)\n",
                "except KeyboardInterrupt:\n",
                "    print('Yükleme iptal edildi.')\n"
            ],
            "metadata": {
                "id": "MaRdIMmuTgzJ",
                "cellView": "form"
            },
            "execution_count": null,
            "outputs": []
        },
        {
            "cell_type": "markdown",
            "source": [
                "**Katkıda Bulunanlar✨**\n",
                "==\n",
                "**@codermert**\n"
            ],
            "metadata": {
                "id": "lL-_ncvvacLz"
            }
        }
    ]
}
