{
    "nbformat": 4,
    "nbformat_minor": 0,
    "metadata": {
        "colab": {
            "provenance": [],
            "gpuType": "T4",
            "cell_execution_strategy": "setup",
            "private_outputs": true
        },
        "kernelspec": {
            "name": "python3",
            "display_name": "Python 3"
        },
        "language_info": {
            "name": "python"
        },
        "accelerator": "GPU"
    },
    "cells": [
        {
            "cell_type": "markdown",
            "source": [
                "<p align='center'><img src='https://i.hizliresim.com/8a6tv6h.gif'></p>\n",
                "\n",
                "**GColab**\n",
                "==\n",
                "**GColab**, Google Colab'da bulunan Nvidia T4 GPU'nun gücünü kullanarak otomatik olarak görüntü kalitesini artırır. Nvidia T4 GPU'sunu kullanarak **Remini-AI**, görüntü kalitesini Google Colab ortamında üstün ve daha hızlı sonuçlar elde etmek üzere geliştirilmiştir."
            ],
            "metadata": {
                "id": "TSypYXd5aFyi"
            }
        },
        {
            "cell_type": "code",
            "execution_count": null,
            "metadata": {
                "id": "JQGxYk5hTEkk",
                "cellView": "form"
            },
            "outputs": [],
            "source": [
                "#@title **Paket Kurulumu**\n",
                "\n",
                "!pip install git+https://github.com/sberbank-ai/Real-ESRGAN.git\n",
                "\n",
                "from IPython.display import clear_output\n",
                "clear_output()\n",
                "print(\"Paket kurulumu başarılı\")"
            ]
        },
        {
            "cell_type": "code",
            "source": [
                "#@title **RealESRGAN İle Remini-AI Modeli Oluşturun**\n",
                "from RealESRGAN import RealESRGAN\n",
                "from IPython.display import clear_output\n",
                "import numpy as np\n",
                "import torch\n",
                "\n",
                "device = torch.device('cuda' if torch.cuda.is_available() else 'cpu')\n",
                "print('device:', device)\n",
                "\n",
                "model_scale = \"4\" #@param [\"2\", \"4\", \"8\"] {allow-input: false}\n",
                "\n",
                "try:\n",
                "    model = RealESRGAN(device, scale=int(model_scale))\n",
                "    model.load_weights(f'weights/RealESRGAN_x{model_scale}.pth')\n",
                "    clear_output()\n",
                "    print(f\"Model Ölçeği {model_scale} Başarıyla Yüklendi!\")\n",
                "except Exception as e:\n",
                "    clear_output()\n",
                "    print('Bir şeyler yanlış gitti..')\n",
                "    print(e)"
            ],
            "metadata": {
                "id": "KD8AtgmoTWHI",
                "cellView": "form"
            },
            "execution_count": null,
            "outputs": []
        },
        {
            "cell_type": "code",
            "source": [
                "#@title **Yükle ve Sonucu Al**\n",
                "import os\n",
                "import requests\n",
                "from google.colab import files\n",
                "import shutil\n",
                "from io import BytesIO\n",
                "import io\n",
                "import tarfile\n",
                "from PIL import Image\n",
                "from IPython.display import clear_output\n",
                "import numpy as np\n",
                "\n",
                "upload_folder = 'inputs'\n",
                "result_folder = 'results'\n",
                "\n",
                "os.makedirs(upload_folder, exist_ok=True)\n",
                "os.makedirs(result_folder, exist_ok=True)\n",
                "\n",
                "IMAGE_FORMATS = ('.png', '.jpg', '.jpeg', '.tiff', '.bmp', '.gif')\n",
                "\n",
                "def image_to_tar_format(img, image_name):\n",
                "    buff = BytesIO()\n",
                "    if '.png' in image_name.lower():\n",
                "        img = img.convert('RGBA')\n",
                "        img.save(buff, format='PNG')\n",
                "    else:\n",
                "        img.save(buff, format='JPEG')\n",
                "    buff.seek(0)\n",
                "    fp = io.BufferedReader(buff)\n",
                "    img_tar_info = tarfile.TarInfo(name=image_name)\n",
                "    img_tar_info.size = len(buff.getvalue())\n",
                "    return img_tar_info, fp\n",
                "\n",
                "def process_tar(path_to_tar):\n",
                "    processing_tar = tarfile.open(path_to_tar, mode='r')\n",
                "    result_tar_path = os.path.join('results/', os.path.basename(path_to_tar))\n",
                "    save_tar = tarfile.open(result_tar_path, 'w')\n",
                "\n",
                "    for c, member in enumerate(processing_tar):\n",
                "        print(f'{c}, işleniyor {member.name}')\n",
                "\n",
                "        if not member.name.endswith(IMAGE_FORMATS):\n",
                "            continue\n",
                "\n",
                "        try:\n",
                "            img_bytes = BytesIO(processing_tar.extractfile(member.name).read())\n",
                "            img_lr = Image.open(img_bytes, mode='r').convert('RGB')\n",
                "        except Exception as err:\n",
                "            print(f'{member.name} dosyası açılamıyor, atlanıyor')\n",
                "            continue\n",
                "\n",
                "        img_sr = model.predict(np.array(img_lr))\n",
                "        # save_tar'a ekleme\n",
                "        img_tar_info, fp = image_to_tar_format(img_sr, member.name)\n",
                "        save_tar.addfile(img_tar_info, fp)\n",
                "\n",
                "    processing_tar.close()\n",
                "    save_tar.close()\n",
                "    print(f'Tamamlandı! Arşiv, {result_tar_path} konumuna kaydedildi')\n",
                "\n",
                "def process_input(filename):\n",
                "    if tarfile.is_tarfile(filename):\n",
                "        process_tar(filename)\n",
                "    else:\n",
                "        result_image_path = os.path.join('results/', os.path.basename(filename))\n",
                "        image = Image.open(filename).convert('RGB')\n",
                "        sr_image = model.predict(np.array(image))\n",
                "        sr_image.save(result_image_path)\n",
                "        print(f'Tamamlandı! Görüntü, {result_image_path} konumuna kaydedildi')\n",
                "        print('Fotoğrafı telegra.ph yükle...')\n",
                "\n",
                "        # İşlenmiş görüntüyü belirtilen URL'ye yükle\n",
                "        url = 'https://telegra.ph/upload'\n",
                "        with open(result_image_path, 'rb') as file:\n",
                "            files = {'file': file}\n",
                "            response = requests.post(url, files=files)\n",
                "            response_json = response.json()\n",
                "            if response.status_code == 200:\n",
                "                clear_output()\n",
                "                print('Sonuçları Görüntüle')\n",
                "                print('')\n",
                "                print('Dosya Adı:', response_json['result']['originalname'])\n",
                "                print('Dosya Boyutu:', response_json['result']['filesize'])\n",
                "                print('Dosya URLsi:', response_json['result']['url_file'])\n",
                "            else:\n",
                "                clear_output()\n",
                "                print('Yükleme başarısız. Yanıt:', response.text)\n",
                "\n",
                "        # Orijinal ve işlenmiş dosyaları sil\n",
                "        os.remove(filename)\n",
                "        os.remove(result_image_path)\n",
                "\n",
                "# Dosyaları yükle\n",
                "try:\n",
                "    uploaded = files.upload()\n",
                "    for filename in uploaded.keys():\n",
                "        print('İşleniyor:', filename)\n",
                "        process_input(filename)\n",
                "except KeyboardInterrupt:\n",
                "    print('Yükleme iptal edildi.')\n",
                "\n",
                "# upload_folder ve result_folder dizinlerini kaldır\n",
                "shutil.rmtree(upload_folder)\n",
                "shutil.rmtree(result_folder)"
            ],
            "metadata": {
                "id": "MaRdIMmuTgzJ",
                "cellView": "form"
            },
            "execution_count": null,
            "outputs": []
        },
        {
            "cell_type": "markdown",
            "source": [
                "**Katkıda Bulunanlar✨**\n",
                "==\n",
                "**@codermert**\n"
            ],
            "metadata": {
                "id": "lL-_ncvvacLz"
            }
        }
    ]
}
