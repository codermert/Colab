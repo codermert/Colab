# Google Colab üzerinde Nvidia T4 GPU'sunun gücünden faydalanarak görüntü kalitesini artırmak için tasarlanmış RealESRGAN-GColab

# Paketi yükle
!pip install git+https://github.com/sberbank-ai/Real-ESRGAN.git

from IPython.display import clear_output
clear_output()
print("Paket başarıyla yüklendi.")

# Remini-AI Modelini RealESRGAN ile oluştur
from RealESRGAN import RealESRGAN
from IPython.display import clear_output
import numpy as np
import torch

cihaz = torch.device('cuda' if torch.cuda.is_available() else 'cpu')
print('Cihaz:', cihaz)

model_olcegi = "4" #@param [\"2\", \"4\", \"8\"] {allow-input: false}

try:
    model = RealESRGAN(cihaz, scale=int(model_olcegi))
    model.load_weights(f'weights/RealESRGAN_x{model_olcegi}.pth')
    clear_output()
    print(f"Model Ölçeği {model_olcegi} Başarıyla Yüklendi!")
except Exception as e:
    clear_output()
    print('Bir hata oluştu..')
    print(e)

# Yükleyip Sonuç Al

import os
import requests
from google.colab import files
import shutil
from io import BytesIO
import io
import tarfile
from PIL import Image
from IPython.display import clear_output
import numpy as np

yukleme_dizini = 'inputs'
sonuc_dizini = 'results'

os.makedirs(yukleme_dizini, exist_ok=True)
os.makedirs(sonuc_dizini, exist_ok=True)

RESIM_FORMATLARI = ('.png', '.jpg', '.jpeg', '.tiff', '.bmp', '.gif')

def resmi_tar_formatina_donustur(img, resim_adi):
    buff = BytesIO()
    if '.png' in resim_adi.lower():
        img = img.convert('RGBA')
        img.save(buff, format='PNG')
    else:
        img.save(buff, format='JPEG')
    buff.seek(0)
    fp = io.BufferedReader(buff)
    img_tar_bilgisi = tarfile.TarInfo(name=resim_adi)
    img_tar_bilgisi.size = len(buff.getvalue())
    return img_tar_bilgisi, fp

def tar_icerigini_isle(tar_yolu):
    islenen_tar = tarfile.open(tar_yolu, mode='r')
    sonuc_tar_yolu = os.path.join('results/', os.path.basename(tar_yolu))
    kaydet_tar = tarfile.open(sonuc_tar_yolu, 'w')

    for c, eleman in enumerate(islenen_tar):
        print(f'{c}, işleniyor {eleman.name}')

        if not eleman.name.endswith(RESIM_FORMATLARI):
            continue

        try:
            img_bytes = BytesIO(islenen_tar.extractfile(eleman.name).read())
            img_lr = Image.open(img_bytes, mode='r').convert('RGB')
        except Exception as err:
            print(f'{eleman.name} dosyası açılamıyor, atlanıyor')
            continue

        img_sr = model.predict(np.array(img_lr))
        img_tar_bilgisi, fp = resmi_tar_formatina_donustur(img_sr, eleman.name)
        kaydet_tar.addfile(img_tar_bilgisi, fp)

    islenen_tar.close()
    kaydet_tar.close()
    print(f'Tamamlandı! Arşiv şuraya kaydedildi: {sonuc_tar_yolu}')

def girdiyi_isle(dosya_adi):
    if tarfile.is_tarfile(dosya_adi):
        tar_icerigini_isle(dosya_adi)
    else:
        sonuc_resim_yolu = os.path.join('results/', os.path.basename(dosya_adi))
        resim = Image.open(dosya_adi).convert('RGB')
        sr_resim = model.predict(np.array(resim))
        sr_resim.save(sonuc_resim_yolu)
        print(f'Tamamlandı! Resim şuraya kaydedildi: {sonuc_resim_yolu}')
        print('Fotoğrafı filezone.my.id\'ye yüklüyorum..')

        url = 'https://filezone.my.id/upload'
        with open(sonuc_resim_yolu, 'rb') as dosya:
            dosyalar = {'file': dosya}
            yanit = requests.post(url, files=dosyalar)
            yanit_json = yanit.json()
            if yanit.status_code == 200:
                clear_output()
                print('Çıktı Sonucu')
                print('')
                print('Dosya Adı:', yanit_json['result']['originalname'])
                print('Dosya Boyutu:', yanit_json['result']['filesize'])
                print('Dosya URL\'si:', yanit_json['result']['url_file'])
            else:
                clear_output()
                print('Yükleme başarısız. Yanıt:', yanit.text)

        os.remove(dosya_adi)
        os.remove(sonuc_resim_yolu)

# Dosyaları yükleyin
try:
    yuklenen = files.upload()
    for dosya_adi in yuklenen.keys():
        print('İşleniyor:', dosya_adi)
        girdiyi_isle(dosya_adi)
except KeyboardInterrupt:
    print('Yükleme iptal edildi.')

# yukleme_dizini ve sonuc_dizini dizinlerini kaldırın
shutil.rmtree(yukleme_dizini)
shutil.rmtree(sonuc_dizini)
